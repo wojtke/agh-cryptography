{
 "cells": [
  {
   "cell_type": "code",
   "execution_count": 1,
   "id": "2963786e-6342-4a51-bc4d-956914d45251",
   "metadata": {},
   "outputs": [],
   "source": [
    "import numpy as np"
   ]
  },
  {
   "cell_type": "markdown",
   "id": "5e562aff-a86b-4818-a4e7-b7a04d7919dc",
   "metadata": {},
   "source": [
    "## DESowy algorytm - sprawdzian kryptografia\n",
    "\n",
    "Rozmiar bloku: 192\n",
    "\n",
    "Rozmiar klucza: 192\n",
    "\n",
    "Rozmiar podklucza rundy: 192\n",
    "\n",
    "Ile rund: 48"
   ]
  },
  {
   "cell_type": "code",
   "execution_count": 2,
   "id": "0aa8b3ce-46b2-4391-9f94-cf57eae7ff8a",
   "metadata": {},
   "outputs": [],
   "source": [
    "# HELPER FUNCTIONS\n",
    "\n",
    "def arr_to_int(binary_array: np.array) -> int:\n",
    "    \"\"\"Converts np.array with bit values to int\"\"\"\n",
    "    result = 0\n",
    "    for b in binary_array:\n",
    "        result = (result<<1) + b\n",
    "    return result\n",
    "\n",
    "def int_to_arr(n: int, out_length=8) -> np.array:\n",
    "    \"\"\"Converts int to np.array with bit values\"\"\"\n",
    "    result = []\n",
    "    for _ in range(out_length):\n",
    "        result += [n%2]\n",
    "        n//=2\n",
    "    return np.array(result[::-1])"
   ]
  },
  {
   "cell_type": "code",
   "execution_count": 3,
   "id": "277b2a07-ac65-4198-af21-47cc29a84be9",
   "metadata": {},
   "outputs": [
    {
     "name": "stdout",
     "output_type": "stream",
     "text": [
      "123\n",
      "[0 1 1 1 1 0 1 1]\n",
      "123\n"
     ]
    }
   ],
   "source": [
    "# EXAMPLE\n",
    "n = 123\n",
    "arr = int_to_arr(n)\n",
    "back_to_n = arr_to_int(arr)\n",
    "\n",
    "print(n, arr, back_to_n,  sep=\"\\n\")"
   ]
  },
  {
   "cell_type": "code",
   "execution_count": 4,
   "id": "699ff247-3aff-447a-a276-8e7289f65adc",
   "metadata": {},
   "outputs": [],
   "source": [
    "# HELPER FUNCTIONS \n",
    "\n",
    "def msg_to_bits(msg: str) -> np.array:\n",
    "    msg = [char for char in bytearray(msg, 'ascii')]\n",
    "    msg = [int_to_arr(char, out_length=8) for char in msg]\n",
    "    msg = np.concatenate(msg)\n",
    "    msg \n",
    "    return msg\n",
    "\n",
    "def bits_to_msg(msg: np.array) -> str:\n",
    "    msg = [msg[i:i+8] for i in range(0, len(msg), 8)]\n",
    "    msg = [arr_to_int(arr) for arr in msg]\n",
    "    msg = bytearray(msg).decode('ascii')\n",
    "    return msg"
   ]
  },
  {
   "cell_type": "code",
   "execution_count": 5,
   "id": "fbb0a097-e66a-4a90-8f55-3ff02970b701",
   "metadata": {},
   "outputs": [
    {
     "name": "stdout",
     "output_type": "stream",
     "text": [
      "hej\n",
      "[0 1 1 0 1 0 0 0 0 1 1 0 0 1 0 1 0 1 1 0 1 0 1 0]\n",
      "hej\n"
     ]
    }
   ],
   "source": [
    "# EXAMPLE\n",
    "msg = \"hej\"\n",
    "arr = msg_to_bits(msg)\n",
    "back_to_msg = bits_to_msg(arr)\n",
    "\n",
    "print(msg, arr, back_to_msg, sep=\"\\n\")"
   ]
  },
  {
   "cell_type": "code",
   "execution_count": 6,
   "id": "810b2a8e-8232-4423-b938-eb7953924b4c",
   "metadata": {},
   "outputs": [],
   "source": [
    "np.random.seed(42)\n",
    "P_KS1 = np.random.permutation(192)\n",
    "P_KS2 = np.random.permutation(192)\n",
    "P_FE = np.random.choice(np.arange(64), 192, replace=True)\n",
    "P_FC = np.random.choice(np.arange(192), 64, replace=False)\n",
    "round_shifts = np.random.randint(1, 3, 48)\n"
   ]
  },
  {
   "cell_type": "markdown",
   "id": "1760a51b-0464-4995-8b2a-b1e9c91193be",
   "metadata": {},
   "source": [
    "### Key Schedule"
   ]
  },
  {
   "cell_type": "code",
   "execution_count": 7,
   "id": "58739b71-167a-4e6f-b66f-e615387ea8e9",
   "metadata": {},
   "outputs": [],
   "source": [
    "def key_schedule(key: np.array, reversed=False):\n",
    "    result = []\n",
    "    key = key[P_KS1]   # initial permutation\n",
    "    for shift in round_shifts:\n",
    "        left, mid, right = np.split(key, 3)   # split INTO 3\n",
    "        left, mid, right = np.roll(left, shift), np.roll(mid, shift), np.roll(right, shift)  # circular roll\n",
    "        key = np.concatenate(np.roll([left, mid, right], shift))  # concatenate WITH ROLL\n",
    "        result.append(key[P_KS2]) # round key after final permutation\n",
    "        \n",
    "    return result if not reversed else result[::-1]"
   ]
  },
  {
   "cell_type": "markdown",
   "id": "0bef5f96-e830-439e-8eb6-ad20682277f3",
   "metadata": {},
   "source": [
    "### SBOX nonlinearity"
   ]
  },
  {
   "cell_type": "code",
   "execution_count": 8,
   "id": "67e1349b-2ab3-4e52-bfc0-ba37c64f2234",
   "metadata": {},
   "outputs": [],
   "source": [
    "SBOX_TABLE = [\n",
    "    [[14,4,13,1,2,15,11,8,3,10,6,12,5,9,0,7],[0,15,7,4,14,2,13,1,10,6,12,11,9,5,3,8],[4,1,14,8,13,6,2,11,15,12,9,7,3,10,5,0],[15,12,8,2,4,9,1,7,5,11,3,14,10,0,6,13]],\n",
    "    [[15,1,8,14,6,11,3,4,9,7,2,13,12,0,5,10],[3,13,4,7,15,2,8,14,12,0,1,10,6,9,11,5],[0,14,7,11,10,4,13,1,5,8,12,6,9,3,2,15],[13,8,10,1,3,15,4,2,11,6,7,12,0,5,14,9]],\n",
    "    [[10,0,9,14,6,3,15,5,1,13,12,7,11,4,2,8],[13,7,0,9,3,4,6,10,2,8,5,14,12,11,15,1],[13,6,4,9,8,15,3,0,11,1,2,12,5,10,14,7],[1,10,13,0,6,9,8,7,4,15,14,3,11,5,2,12]],\n",
    "    [[7,13,14,3,0,6,9,10,1,2,8,5,11,12,4,15],[13,8,11,5,6,15,0,3,4,7,2,12,1,10,14,9],[10,6,9,0,12,11,7,13,15,1,3,14,5,2,8,4],[3,15,0,6,10,1,13,8,9,4,5,11,12,7,2,14]],\n",
    "    [[2,12,4,1,7,10,11,6,8,5,3,15,13,0,14,9],[14,11,2,12,4,7,13,1,5,0,15,10,3,9,8,6],[4,2,1,11,10,13,7,8,15,9,12,5,6,3,0,14],[11,8,12,7,1,14,2,13,6,15,0,9,10,4,5,3]],\n",
    "    [[12,1,10,15,9,2,6,8,0,13,3,4,14,7,5,11],[10,15,4,2,7,12,9,5,6,1,13,14,0,11,3,8],[9,14,15,5,2,8,12,3,7,0,4,10,1,13,11,6],[4,3,2,12,9,5,15,10,11,14,1,7,6,0,8,13]],\n",
    "    [[4,11,2,14,15,0,8,13,3,12,9,7,5,10,6,1],[13,0,11,7,4,9,1,10,14,3,5,12,2,15,8,6],[1,4,11,13,12,3,7,14,10,15,6,8,0,5,9,2],[6,11,13,8,1,4,10,7,9,5,0,15,14,2,3,12]],\n",
    "    [[13,2,8,4,6,15,11,1,10,9,3,14,5,0,12,7],[1,15,13,8,10,3,7,4,12,5,6,11,0,14,9,2],[7,11,4,1,9,12,14,2,0,6,10,13,15,3,5,8],[2,1,14,7,4,10,8,13,15,12,9,0,3,5,6,11]]\n",
    "]\n",
    "\n",
    "def _sbox(block_part, i):\n",
    "    sbox = SBOX_TABLE[i%8]\n",
    "    first_last = arr_to_int(block_part[[0,5]])\n",
    "    middle = arr_to_int(block_part[1:5])\n",
    "    sbox_out = sbox[first_last][middle]\n",
    "    return int_to_arr(sbox_out, out_length=6)\n",
    "\n",
    "def sbox_substitute(block):\n",
    "    block_parts = [block[i:i+6] for i in range(0, len(block), 6)]\n",
    "    block_parts = [_sbox(part, i) for i, part in enumerate(block_parts)]\n",
    "    return np.concatenate(block_parts)"
   ]
  },
  {
   "cell_type": "markdown",
   "id": "dedf9c1b-f894-442f-87c0-d8f21af36e8c",
   "metadata": {
    "tags": []
   },
   "source": [
    "### Round Function"
   ]
  },
  {
   "cell_type": "code",
   "execution_count": 9,
   "id": "4b1c0b6e-01d3-4bac-891a-258a32b957bc",
   "metadata": {},
   "outputs": [],
   "source": [
    "def F(block: np.array, round_key: np.array):\n",
    "    block = block[P_FE]  # block permutation and expansion\n",
    "    block = block ^ round_key  # xoring with round key\n",
    "    block = sbox_substitute(block)  # apply nonlinearity\n",
    "    block = block[P_FC]  # final permutation and compression\n",
    "    return block\n"
   ]
  },
  {
   "cell_type": "markdown",
   "id": "f46688ac-ab17-4544-bd94-fc0923cdb816",
   "metadata": {},
   "source": [
    "### Cipher and Decipher operations"
   ]
  },
  {
   "cell_type": "code",
   "execution_count": 10,
   "id": "82e7cdc1-670c-4e1a-ae19-610cd24a9503",
   "metadata": {},
   "outputs": [],
   "source": [
    "def cipher(block, key):\n",
    "    for round_key in key_schedule(key):\n",
    "        L, M, R = np.split(block, 3)\n",
    "        L = L ^ F(M, round_key)\n",
    "        block = np.concatenate([M, R, L])\n",
    "    \n",
    "    return block\n",
    "\n",
    "\n",
    "def decipher(block, key):\n",
    "    for round_key in key_schedule(key, reversed=True):\n",
    "        L, M, R = np.split(block, 3)\n",
    "        R = R ^ F(L, round_key)\n",
    "        block = np.concatenate([R, L, M])\n",
    "    \n",
    "    return block\n",
    "        "
   ]
  },
  {
   "cell_type": "code",
   "execution_count": 11,
   "id": "e8e54404-529e-4063-97a7-e903063c4a48",
   "metadata": {},
   "outputs": [
    {
     "name": "stdout",
     "output_type": "stream",
     "text": [
      "--------------------\n",
      "Plaintext:\n",
      "siemankosiemankosiemanko\n",
      "[0 1 1 1 0 0 1 1 0 1 1 0 1 0 0 1 0 1 1 0 0 1 0 1 0 1 1 0 1 1 0 1 0 1 1 0 0\n",
      " 0 0 1 0 1 1 0 1 1 1 0 0 1 1 0 1 0 1 1 0 1 1 0 1 1 1 1 0 1 1 1 0 0 1 1 0 1\n",
      " 1 0 1 0 0 1 0 1 1 0 0 1 0 1 0 1 1 0 1 1 0 1 0 1 1 0 0 0 0 1 0 1 1 0 1 1 1\n",
      " 0 0 1 1 0 1 0 1 1 0 1 1 0 1 1 1 1 0 1 1 1 0 0 1 1 0 1 1 0 1 0 0 1 0 1 1 0\n",
      " 0 1 0 1 0 1 1 0 1 1 0 1 0 1 1 0 0 0 0 1 0 1 1 0 1 1 1 0 0 1 1 0 1 0 1 1 0\n",
      " 1 1 0 1 1 1 1]\n",
      "--------------------\n",
      "Key:\n",
      "[0 0 1 1 0 0 0 1 0 0 1 1 0 0 1 0 0 0 1 1 0 0 1 1 0 0 1 1 0 1 0 0 0 0 1 1 0\n",
      " 1 0 1 0 0 1 1 0 1 1 0 0 0 1 1 0 1 1 1 0 0 1 1 1 0 0 0 0 0 1 1 0 0 0 1 0 0\n",
      " 1 1 0 0 1 0 0 0 1 1 0 0 1 1 0 0 1 1 0 1 0 0 0 0 1 1 0 1 0 1 0 0 1 1 0 1 1\n",
      " 0 0 0 1 1 0 1 1 1 0 0 1 1 1 0 0 0 0 0 1 1 0 0 0 1 0 0 1 1 0 0 1 0 0 0 1 1\n",
      " 0 0 1 1 0 0 1 1 0 1 0 0 0 0 1 1 0 1 0 1 0 0 1 1 0 1 1 0 0 0 1 1 0 1 1 1 0\n",
      " 0 1 1 1 0 0 0]\n",
      "--------------------\n",
      "Ciphertext:\n",
      "[1 1 1 1 0 0 1 1 1 1 0 0 0 0 0 1 0 1 1 1 1 1 0 1 1 1 0 1 0 1 0 1 1 1 1 1 1\n",
      " 1 0 1 0 1 1 0 1 1 0 0 1 1 1 0 1 0 1 1 1 0 1 1 1 1 1 1 0 1 1 1 0 0 1 1 1 1\n",
      " 1 0 1 1 0 1 1 0 0 1 0 0 1 1 1 1 1 1 0 0 0 1 0 1 1 0 1 1 0 1 0 1 1 1 1 1 1\n",
      " 0 1 1 1 0 1 0 1 0 0 0 0 0 1 1 1 1 1 0 1 1 0 0 1 0 0 0 1 0 0 0 0 1 1 1 0 0\n",
      " 0 1 0 1 1 1 1 1 1 0 0 0 0 1 0 1 1 0 0 1 0 1 0 1 1 1 0 1 1 1 1 0 1 0 1 0 0\n",
      " 1 0 1 0 1 0 1]\n",
      "--------------------\n",
      "Deciphered:\n",
      "siemankosiemankosiemanko\n",
      "[0 1 1 1 0 0 1 1 0 1 1 0 1 0 0 1 0 1 1 0 0 1 0 1 0 1 1 0 1 1 0 1 0 1 1 0 0\n",
      " 0 0 1 0 1 1 0 1 1 1 0 0 1 1 0 1 0 1 1 0 1 1 0 1 1 1 1 0 1 1 1 0 0 1 1 0 1\n",
      " 1 0 1 0 0 1 0 1 1 0 0 1 0 1 0 1 1 0 1 1 0 1 0 1 1 0 0 0 0 1 0 1 1 0 1 1 1\n",
      " 0 0 1 1 0 1 0 1 1 0 1 1 0 1 1 1 1 0 1 1 1 0 0 1 1 0 1 1 0 1 0 0 1 0 1 1 0\n",
      " 0 1 0 1 0 1 1 0 1 1 0 1 0 1 1 0 0 0 0 1 0 1 1 0 1 1 1 0 0 1 1 0 1 0 1 1 0\n",
      " 1 1 0 1 1 1 1]\n",
      "--------------------\n"
     ]
    }
   ],
   "source": [
    "plaintext = msg_to_bits(\"siemankosiemankosiemanko\")\n",
    "key = msg_to_bits(\"123456781234567812345678\")\n",
    "\n",
    "ciphertext = cipher(plaintext, key)\n",
    "deciphered = decipher(ciphertext, key)\n",
    "\n",
    "\n",
    "print(\"-\"*20)\n",
    "print(\"Plaintext:\")\n",
    "print(bits_to_msg(plaintext))\n",
    "print(plaintext)\n",
    "\n",
    "print(\"-\"*20)\n",
    "print(\"Key:\")\n",
    "print(key)\n",
    "\n",
    "print(\"-\"*20)\n",
    "\n",
    "print(\"Ciphertext:\")\n",
    "print(ciphertext)\n",
    "\n",
    "print(\"-\"*20)\n",
    "\n",
    "print(\"Deciphered:\")\n",
    "print(bits_to_msg(deciphered))\n",
    "print(deciphered)\n",
    "print(\"-\"*20)"
   ]
  },
  {
   "cell_type": "code",
   "execution_count": null,
   "id": "13f80d3c-a3a2-44fa-95ed-7d0cf3d853ef",
   "metadata": {},
   "outputs": [],
   "source": []
  }
 ],
 "metadata": {
  "kernelspec": {
   "display_name": "Python 3 (ipykernel)",
   "language": "python",
   "name": "python3"
  },
  "language_info": {
   "codemirror_mode": {
    "name": "ipython",
    "version": 3
   },
   "file_extension": ".py",
   "mimetype": "text/x-python",
   "name": "python",
   "nbconvert_exporter": "python",
   "pygments_lexer": "ipython3",
   "version": "3.9.12"
  }
 },
 "nbformat": 4,
 "nbformat_minor": 5
}
