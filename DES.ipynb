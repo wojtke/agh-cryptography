{
 "cells": [
  {
   "cell_type": "code",
   "execution_count": 3,
   "id": "2963786e-6342-4a51-bc4d-956914d45251",
   "metadata": {},
   "outputs": [],
   "source": [
    "import numpy as np"
   ]
  },
  {
   "cell_type": "markdown",
   "id": "5e562aff-a86b-4818-a4e7-b7a04d7919dc",
   "metadata": {},
   "source": [
    "## DES"
   ]
  },
  {
   "cell_type": "code",
   "execution_count": 4,
   "id": "0aa8b3ce-46b2-4391-9f94-cf57eae7ff8a",
   "metadata": {},
   "outputs": [],
   "source": [
    "# HELPER FUNCTIONS\n",
    "\n",
    "def arr_to_int(binary_array: np.array) -> int:\n",
    "    \"\"\"Converts np.array with bit values to int\"\"\"\n",
    "    result = 0\n",
    "    for b in binary_array:\n",
    "        result = (result<<1) + b\n",
    "    return result\n",
    "\n",
    "def int_to_arr(n: int, out_length=8) -> np.array:\n",
    "    \"\"\"Converts int to np.array with bit values\"\"\"\n",
    "    result = []\n",
    "    for _ in range(out_length):\n",
    "        result += [n%2]\n",
    "        n//=2\n",
    "    return np.array(result[::-1])"
   ]
  },
  {
   "cell_type": "code",
   "execution_count": 5,
   "id": "277b2a07-ac65-4198-af21-47cc29a84be9",
   "metadata": {},
   "outputs": [
    {
     "name": "stdout",
     "output_type": "stream",
     "text": [
      "123\n",
      "[0 1 1 1 1 0 1 1]\n",
      "123\n"
     ]
    }
   ],
   "source": [
    "# EXAMPLE\n",
    "n = 123\n",
    "arr = int_to_arr(n)\n",
    "back_to_n = arr_to_int(arr)\n",
    "\n",
    "print(n, arr, back_to_n,  sep=\"\\n\")"
   ]
  },
  {
   "cell_type": "code",
   "execution_count": 6,
   "id": "699ff247-3aff-447a-a276-8e7289f65adc",
   "metadata": {},
   "outputs": [],
   "source": [
    "# HELPER FUNCTIONS \n",
    "\n",
    "def msg_to_bits(msg: str) -> np.array:\n",
    "    msg = [char for char in bytearray(msg, 'ascii')]\n",
    "    msg = [int_to_arr(char, out_length=8) for char in msg]\n",
    "    msg = np.concatenate(msg)\n",
    "    msg \n",
    "    return msg\n",
    "\n",
    "def bits_to_msg(msg: np.array) -> str:\n",
    "    msg = [msg[i:i+8] for i in range(0, len(msg), 8)]\n",
    "    msg = [arr_to_int(arr) for arr in msg]\n",
    "    msg = bytearray(msg).decode('ascii')\n",
    "    return msg"
   ]
  },
  {
   "cell_type": "code",
   "execution_count": 7,
   "id": "fbb0a097-e66a-4a90-8f55-3ff02970b701",
   "metadata": {},
   "outputs": [
    {
     "name": "stdout",
     "output_type": "stream",
     "text": [
      "hej\n",
      "[0 1 1 0 1 0 0 0 0 1 1 0 0 1 0 1 0 1 1 0 1 0 1 0]\n",
      "hej\n"
     ]
    }
   ],
   "source": [
    "# EXAMPLE\n",
    "msg = \"hej\"\n",
    "arr = msg_to_bits(msg)\n",
    "back_to_msg = bits_to_msg(arr)\n",
    "\n",
    "print(msg, arr, back_to_msg, sep=\"\\n\")"
   ]
  },
  {
   "cell_type": "markdown",
   "id": "1760a51b-0464-4995-8b2a-b1e9c91193be",
   "metadata": {},
   "source": [
    "### Key Schedule"
   ]
  },
  {
   "cell_type": "code",
   "execution_count": 8,
   "id": "58739b71-167a-4e6f-b66f-e615387ea8e9",
   "metadata": {},
   "outputs": [],
   "source": [
    "PC1 = [56, 48, 40, 32, 24, 16, 8, 0, 57, 49, 41, 33, 25, 17, 9, 1, 58, 50, 42, 34, 26, 18, 10, 2, 59, 51, 43, 35, 62, 54, 46, 38, 30, 22, 14, 6, 61, 53, 45, 37, 29, 21, 13, 5, 60, 52, 44, 36, 28, 20, 12, 4, 27, 19, 11, 3]\n",
    "PC2 = [13, 16, 10, 23, 0, 4, 2, 27, 14, 5, 20, 9, 22, 18, 11, 3, 25, 7, 15, 6, 26, 19, 12, 1, 40, 51, 30, 36, 46, 54, 29, 39, 50, 44, 32, 47, 43, 48, 38, 55, 33, 52, 45, 41, 49, 35, 28, 31]\n",
    "round_shifts = [1, 1, 2, 2, 2, 2, 2, 2, 1, 2, 2, 2, 2, 2, 2, 1]\n",
    "\n",
    "def key_schedule(key: np.array, reversed=False):\n",
    "    result = []\n",
    "    key = key[PC1]   # initial permutation+compression\n",
    "    for shift in round_shifts:\n",
    "        left, right = key[:len(key)//2], key[len(key)//2:]   # split\n",
    "        left, right = np.roll(left, shift), np.roll(right, shift)  # circular roll\n",
    "        key = np.concatenate([left, right])  # concatenate\n",
    "        result.append(key[PC2]) # round key after final permutation\n",
    "    return result if not reversed else result[::-1]"
   ]
  },
  {
   "cell_type": "markdown",
   "id": "0bef5f96-e830-439e-8eb6-ad20682277f3",
   "metadata": {},
   "source": [
    "### SBOX nonlinearity"
   ]
  },
  {
   "cell_type": "code",
   "execution_count": 9,
   "id": "67e1349b-2ab3-4e52-bfc0-ba37c64f2234",
   "metadata": {},
   "outputs": [],
   "source": [
    "SBOX_TABLE = [\n",
    "[[14,4,13,1,2,15,11,8,3,10,6,12,5,9,0,7],[0,15,7,4,14,2,13,1,10,6,12,11,9,5,3,8],[4,1,14,8,13,6,2,11,15,12,9,7,3,10,5,0],[15,12,8,2,4,9,1,7,5,11,3,14,10,0,6,13]],\n",
    "[[15,1,8,14,6,11,3,4,9,7,2,13,12,0,5,10],[3,13,4,7,15,2,8,14,12,0,1,10,6,9,11,5],[0,14,7,11,10,4,13,1,5,8,12,6,9,3,2,15],[13,8,10,1,3,15,4,2,11,6,7,12,0,5,14,9]],\n",
    "[[10,0,9,14,6,3,15,5,1,13,12,7,11,4,2,8],[13,7,0,9,3,4,6,10,2,8,5,14,12,11,15,1],[13,6,4,9,8,15,3,0,11,1,2,12,5,10,14,7],[1,10,13,0,6,9,8,7,4,15,14,3,11,5,2,12]],\n",
    "[[7,13,14,3,0,6,9,10,1,2,8,5,11,12,4,15],[13,8,11,5,6,15,0,3,4,7,2,12,1,10,14,9],[10,6,9,0,12,11,7,13,15,1,3,14,5,2,8,4],[3,15,0,6,10,1,13,8,9,4,5,11,12,7,2,14]],\n",
    "[[2,12,4,1,7,10,11,6,8,5,3,15,13,0,14,9],[14,11,2,12,4,7,13,1,5,0,15,10,3,9,8,6],[4,2,1,11,10,13,7,8,15,9,12,5,6,3,0,14],[11,8,12,7,1,14,2,13,6,15,0,9,10,4,5,3]],\n",
    "[[12,1,10,15,9,2,6,8,0,13,3,4,14,7,5,11],[10,15,4,2,7,12,9,5,6,1,13,14,0,11,3,8],[9,14,15,5,2,8,12,3,7,0,4,10,1,13,11,6],[4,3,2,12,9,5,15,10,11,14,1,7,6,0,8,13]],\n",
    "[[4,11,2,14,15,0,8,13,3,12,9,7,5,10,6,1],[13,0,11,7,4,9,1,10,14,3,5,12,2,15,8,6],[1,4,11,13,12,3,7,14,10,15,6,8,0,5,9,2],[6,11,13,8,1,4,10,7,9,5,0,15,14,2,3,12]],\n",
    "[[13,2,8,4,6,15,11,1,10,9,3,14,5,0,12,7],[1,15,13,8,10,3,7,4,12,5,6,11,0,14,9,2],[7,11,4,1,9,12,14,2,0,6,10,13,15,3,5,8],[2,1,14,7,4,10,8,13,15,12,9,0,3,5,6,11]]\n",
    "]\n",
    "\n",
    "def _sbox(block_part, i):\n",
    "    sbox = SBOX_TABLE[i]\n",
    "    first_last = arr_to_int(block_part[[0,5]])\n",
    "    middle = arr_to_int(block_part[1:5])\n",
    "    sbox_out = sbox[first_last][middle]\n",
    "    return int_to_arr(sbox_out, out_length=4)\n",
    "\n",
    "def sbox_substitute(block):\n",
    "    block_parts = [block[i:i+6] for i in range(0, len(block), 6)]\n",
    "    block_parts = [_sbox(part, i) for i, part in enumerate(block_parts)]\n",
    "    return np.concatenate(block_parts)"
   ]
  },
  {
   "cell_type": "markdown",
   "id": "dedf9c1b-f894-442f-87c0-d8f21af36e8c",
   "metadata": {
    "tags": []
   },
   "source": [
    "### Round Function"
   ]
  },
  {
   "cell_type": "code",
   "execution_count": 10,
   "id": "4b1c0b6e-01d3-4bac-891a-258a32b957bc",
   "metadata": {},
   "outputs": [],
   "source": [
    "EXP = [31, 0, 1, 2, 3, 4, 3, 4, 5, 6, 7, 8, 7, 8, 9, 10, 11, 12, 11, 12, 13, 14, 15, 16, 15, 16, 17, 18, 19, 20, 19, 20, 21, 22, 23, 24, 23, 24, 25, 26, 27, 28, 27, 28, 29, 30, 31, 0]\n",
    "PER = [15, 6, 19, 20, 28, 11, 27, 16, 0, 14, 22, 25, 4, 17, 30, 9, 1, 7, 23, 13, 31, 26, 2, 8, 18, 12, 29, 5, 21, 10, 3, 24]\n",
    "\n",
    "def F(block: np.array, round_key: np.array):\n",
    "    block = block[EXP]  # block expansion\n",
    "    block = block ^ round_key  # xoring with round key\n",
    "    block = sbox_substitute(block)  # apply nonlinearity\n",
    "    block = block[PER]  # final permutation\n",
    "    return block\n"
   ]
  },
  {
   "cell_type": "markdown",
   "id": "f46688ac-ab17-4544-bd94-fc0923cdb816",
   "metadata": {},
   "source": [
    "### Cipher and Decipher operations"
   ]
  },
  {
   "cell_type": "code",
   "execution_count": 11,
   "id": "82e7cdc1-670c-4e1a-ae19-610cd24a9503",
   "metadata": {},
   "outputs": [],
   "source": [
    "P = [57, 49, 41, 33, 25, 17, 9, 1, 59, 51, 43, 35, 27, 19, 11, 3, 61, 53, 45, 37, 29, 21, 13, 5, 63, 55, 47, 39, 31, 23, 15, 7, 56, 48, 40, 32, 24, 16, 8, 0, 58, 50, 42, 34, 26, 18, 10, 2, 60, 52, 44, 36, 28, 20, 12, 4, 62, 54, 46, 38, 30, 22, 14, 6]\n",
    "INV_P = [39, 7, 47, 15, 55, 23, 63, 31, 38, 6, 46, 14, 54, 22, 62, 30, 37, 5, 45, 13, 53, 21, 61, 29, 36, 4, 44, 12, 52, 20, 60, 28, 35, 3, 43, 11, 51, 19, 59, 27, 34, 2, 42, 10, 50, 18, 58, 26, 33, 1, 41, 9, 49, 17, 57, 25, 32, 0, 40, 8, 48, 16, 56, 24]\n",
    "\n",
    "\n",
    "def cipher(block, key):\n",
    "    block = block[P]\n",
    "    for round_key in key_schedule(key):\n",
    "        L, R = np.split(block, 2)\n",
    "        L = L ^ F(R, round_key)\n",
    "        block = np.concatenate([R, L])\n",
    "    block = block[INV_P]\n",
    "    \n",
    "    return block\n",
    "\n",
    "\n",
    "def decipher(block, key):\n",
    "    block = block[P]\n",
    "    for round_key in key_schedule(key, reversed=True):\n",
    "        L, R = np.split(block, 2)\n",
    "        R = R ^ F(L, round_key)\n",
    "        block = np.concatenate([R, L])\n",
    "    block = block[INV_P]\n",
    "    \n",
    "    return block\n",
    "        "
   ]
  },
  {
   "cell_type": "code",
   "execution_count": 12,
   "id": "e8e54404-529e-4063-97a7-e903063c4a48",
   "metadata": {},
   "outputs": [
    {
     "name": "stdout",
     "output_type": "stream",
     "text": [
      "--------------------\n",
      "Plaintext:\n",
      "siemanko\n",
      "[0 1 1 1 0 0 1 1 0 1 1 0 1 0 0 1 0 1 1 0 0 1 0 1 0 1 1 0 1 1 0 1 0 1 1 0 0\n",
      " 0 0 1 0 1 1 0 1 1 1 0 0 1 1 0 1 0 1 1 0 1 1 0 1 1 1 1]\n",
      "--------------------\n",
      "Key:\n",
      "[0 0 1 1 0 0 0 1 0 0 1 1 0 0 1 0 0 0 1 1 0 0 1 1 0 0 1 1 0 1 0 0 0 0 1 1 0\n",
      " 1 0 1 0 0 1 1 0 1 1 0 0 0 1 1 0 1 1 1 0 0 1 1 1 0 0 0]\n",
      "--------------------\n",
      "Ciphertext:\n",
      "[1 0 0 1 0 1 0 1 1 1 1 1 1 0 0 1 1 0 1 0 0 0 1 1 1 0 0 0 0 0 1 0 1 0 0 0 1\n",
      " 1 1 0 1 1 0 0 0 1 0 0 0 0 1 0 0 1 1 1 1 1 0 1 0 1 1 1]\n",
      "--------------------\n",
      "Deciphered:\n",
      "siemanko\n",
      "[0 1 1 1 0 0 1 1 0 1 1 0 1 0 0 1 0 1 1 0 0 1 0 1 0 1 1 0 1 1 0 1 0 1 1 0 0\n",
      " 0 0 1 0 1 1 0 1 1 1 0 0 1 1 0 1 0 1 1 0 1 1 0 1 1 1 1]\n",
      "--------------------\n"
     ]
    }
   ],
   "source": [
    "plaintext = msg_to_bits(\"siemanko\")\n",
    "key = msg_to_bits(\"12345678\")\n",
    "\n",
    "ciphertext = cipher(plaintext, key)\n",
    "deciphered = decipher(ciphertext, key)\n",
    "\n",
    "\n",
    "print(\"-\"*20)\n",
    "print(\"Plaintext:\")\n",
    "print(bits_to_msg(plaintext))\n",
    "print(plaintext)\n",
    "\n",
    "print(\"-\"*20)\n",
    "print(\"Key:\")\n",
    "print(key)\n",
    "\n",
    "print(\"-\"*20)\n",
    "\n",
    "print(\"Ciphertext:\")\n",
    "print(ciphertext)\n",
    "\n",
    "print(\"-\"*20)\n",
    "\n",
    "print(\"Deciphered:\")\n",
    "print(bits_to_msg(deciphered))\n",
    "print(deciphered)\n",
    "print(\"-\"*20)"
   ]
  },
  {
   "cell_type": "code",
   "execution_count": 13,
   "id": "28a5cb72-4bc3-4685-a5d8-5b87c1feffcc",
   "metadata": {},
   "outputs": [
    {
     "data": {
      "text/plain": [
       "0.515625"
      ]
     },
     "execution_count": 13,
     "metadata": {},
     "output_type": "execute_result"
    }
   ],
   "source": [
    "ciphertext.mean()"
   ]
  }
 ],
 "metadata": {
  "kernelspec": {
   "display_name": "Python 3 (ipykernel)",
   "language": "python",
   "name": "python3"
  },
  "language_info": {
   "codemirror_mode": {
    "name": "ipython",
    "version": 3
   },
   "file_extension": ".py",
   "mimetype": "text/x-python",
   "name": "python",
   "nbconvert_exporter": "python",
   "pygments_lexer": "ipython3",
   "version": "3.9.12"
  }
 },
 "nbformat": 4,
 "nbformat_minor": 5
}
